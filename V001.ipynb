{
 "cells": [
  {
   "cell_type": "code",
   "execution_count": 938,
   "id": "d65d7e53",
   "metadata": {},
   "outputs": [],
   "source": [
    "import pandas as pd\n",
    "import numpy as np\n",
    "import matplotlib.pyplot as plt\n",
    "\n",
    "import sklearn\n",
    "from sklearn.model_selection import train_test_split\n",
    "from sklearn.naive_bayes import GaussianNB\n",
    "from sklearn import linear_model\n",
    "from sklearn.linear_model import RidgeClassifier\n",
    "from xgboost import XGBClassifier\n",
    "from sklearn.ensemble import StackingClassifier\n",
    "from sklearn.ensemble import VotingClassifier\n",
    "from sklearn.metrics import confusion_matrix\n",
    "from sklearn.metrics import accuracy_score\n",
    "from sklearn.feature_extraction.text import CountVectorizer\n",
    "from sklearn.preprocessing import StandardScaler\n",
    "from sklearn.pipeline import make_pipeline\n",
    "from sklearn.svm import SVC\n",
    "\n",
    "import re\n",
    "import nltk\n",
    "from nltk.corpus import stopwords\n",
    "from nltk.stem.porter import PorterStemmer\n",
    "from wordcloud import WordCloud, STOPWORDS\n",
    "from textblob import Word"
   ]
  },
  {
   "cell_type": "code",
   "execution_count": 939,
   "id": "7e0276a8",
   "metadata": {
    "collapsed": true
   },
   "outputs": [
    {
     "name": "stderr",
     "output_type": "stream",
     "text": [
      "b'Skipping line 15: expected 2 fields, saw 4\\nSkipping line 20: expected 2 fields, saw 3\\nSkipping line 23: expected 2 fields, saw 3\\nSkipping line 29: expected 2 fields, saw 3\\nSkipping line 30: expected 2 fields, saw 3\\nSkipping line 32: expected 2 fields, saw 4\\nSkipping line 35: expected 2 fields, saw 3\\nSkipping line 36: expected 2 fields, saw 3\\nSkipping line 39: expected 2 fields, saw 3\\nSkipping line 45: expected 2 fields, saw 3\\nSkipping line 46: expected 2 fields, saw 3\\nSkipping line 49: expected 2 fields, saw 3\\nSkipping line 51: expected 2 fields, saw 3\\nSkipping line 55: expected 2 fields, saw 3\\nSkipping line 57: expected 2 fields, saw 4\\nSkipping line 60: expected 2 fields, saw 3\\nSkipping line 61: expected 2 fields, saw 3\\nSkipping line 67: expected 2 fields, saw 3\\nSkipping line 72: expected 2 fields, saw 3\\nSkipping line 75: expected 2 fields, saw 3\\nSkipping line 76: expected 2 fields, saw 4\\nSkipping line 92: expected 2 fields, saw 3\\nSkipping line 93: expected 2 fields, saw 3\\nSkipping line 94: expected 2 fields, saw 3\\nSkipping line 101: expected 2 fields, saw 3\\nSkipping line 102: expected 2 fields, saw 3\\nSkipping line 103: expected 2 fields, saw 3\\nSkipping line 104: expected 2 fields, saw 3\\nSkipping line 105: expected 2 fields, saw 4\\nSkipping line 108: expected 2 fields, saw 3\\nSkipping line 112: expected 2 fields, saw 3\\nSkipping line 113: expected 2 fields, saw 3\\nSkipping line 115: expected 2 fields, saw 3\\nSkipping line 121: expected 2 fields, saw 3\\nSkipping line 123: expected 2 fields, saw 3\\nSkipping line 125: expected 2 fields, saw 3\\nSkipping line 126: expected 2 fields, saw 3\\nSkipping line 127: expected 2 fields, saw 4\\nSkipping line 129: expected 2 fields, saw 3\\nSkipping line 131: expected 2 fields, saw 3\\nSkipping line 134: expected 2 fields, saw 4\\nSkipping line 136: expected 2 fields, saw 4\\nSkipping line 137: expected 2 fields, saw 3\\nSkipping line 140: expected 2 fields, saw 3\\nSkipping line 148: expected 2 fields, saw 3\\nSkipping line 149: expected 2 fields, saw 3\\nSkipping line 161: expected 2 fields, saw 3\\nSkipping line 164: expected 2 fields, saw 3\\nSkipping line 172: expected 2 fields, saw 3\\nSkipping line 173: expected 2 fields, saw 3\\nSkipping line 175: expected 2 fields, saw 3\\nSkipping line 177: expected 2 fields, saw 3\\nSkipping line 179: expected 2 fields, saw 3\\nSkipping line 180: expected 2 fields, saw 3\\nSkipping line 182: expected 2 fields, saw 3\\nSkipping line 186: expected 2 fields, saw 3\\nSkipping line 188: expected 2 fields, saw 3\\nSkipping line 191: expected 2 fields, saw 3\\nSkipping line 194: expected 2 fields, saw 3\\nSkipping line 195: expected 2 fields, saw 3\\nSkipping line 202: expected 2 fields, saw 3\\nSkipping line 211: expected 2 fields, saw 4\\nSkipping line 212: expected 2 fields, saw 3\\nSkipping line 213: expected 2 fields, saw 3\\nSkipping line 222: expected 2 fields, saw 4\\nSkipping line 224: expected 2 fields, saw 5\\nSkipping line 226: expected 2 fields, saw 3\\nSkipping line 233: expected 2 fields, saw 3\\nSkipping line 235: expected 2 fields, saw 3\\nSkipping line 237: expected 2 fields, saw 3\\nSkipping line 239: expected 2 fields, saw 3\\nSkipping line 241: expected 2 fields, saw 3\\nSkipping line 245: expected 2 fields, saw 3\\nSkipping line 248: expected 2 fields, saw 3\\nSkipping line 255: expected 2 fields, saw 3\\nSkipping line 263: expected 2 fields, saw 3\\nSkipping line 265: expected 2 fields, saw 5\\nSkipping line 267: expected 2 fields, saw 3\\nSkipping line 268: expected 2 fields, saw 3\\nSkipping line 269: expected 2 fields, saw 3\\nSkipping line 271: expected 2 fields, saw 3\\nSkipping line 275: expected 2 fields, saw 4\\nSkipping line 277: expected 2 fields, saw 4\\nSkipping line 285: expected 2 fields, saw 3\\nSkipping line 291: expected 2 fields, saw 3\\nSkipping line 294: expected 2 fields, saw 4\\nSkipping line 295: expected 2 fields, saw 3\\nSkipping line 297: expected 2 fields, saw 3\\nSkipping line 308: expected 2 fields, saw 3\\nSkipping line 309: expected 2 fields, saw 3\\nSkipping line 310: expected 2 fields, saw 3\\nSkipping line 316: expected 2 fields, saw 3\\nSkipping line 318: expected 2 fields, saw 3\\nSkipping line 319: expected 2 fields, saw 4\\nSkipping line 320: expected 2 fields, saw 3\\nSkipping line 323: expected 2 fields, saw 3\\nSkipping line 325: expected 2 fields, saw 3\\nSkipping line 329: expected 2 fields, saw 3\\nSkipping line 330: expected 2 fields, saw 3\\nSkipping line 333: expected 2 fields, saw 3\\nSkipping line 334: expected 2 fields, saw 3\\nSkipping line 340: expected 2 fields, saw 3\\nSkipping line 343: expected 2 fields, saw 4\\nSkipping line 348: expected 2 fields, saw 3\\nSkipping line 349: expected 2 fields, saw 4\\nSkipping line 351: expected 2 fields, saw 3\\nSkipping line 357: expected 2 fields, saw 3\\nSkipping line 358: expected 2 fields, saw 3\\nSkipping line 367: expected 2 fields, saw 3\\nSkipping line 370: expected 2 fields, saw 3\\nSkipping line 374: expected 2 fields, saw 3\\nSkipping line 375: expected 2 fields, saw 4\\nSkipping line 379: expected 2 fields, saw 3\\nSkipping line 381: expected 2 fields, saw 4\\nSkipping line 392: expected 2 fields, saw 3\\nSkipping line 394: expected 2 fields, saw 3\\nSkipping line 397: expected 2 fields, saw 4\\nSkipping line 403: expected 2 fields, saw 3\\nSkipping line 405: expected 2 fields, saw 3\\nSkipping line 413: expected 2 fields, saw 3\\nSkipping line 414: expected 2 fields, saw 3\\nSkipping line 421: expected 2 fields, saw 4\\nSkipping line 423: expected 2 fields, saw 5\\nSkipping line 424: expected 2 fields, saw 3\\nSkipping line 430: expected 2 fields, saw 3\\nSkipping line 441: expected 2 fields, saw 3\\nSkipping line 444: expected 2 fields, saw 3\\nSkipping line 447: expected 2 fields, saw 3\\nSkipping line 450: expected 2 fields, saw 3\\nSkipping line 458: expected 2 fields, saw 3\\nSkipping line 469: expected 2 fields, saw 3\\nSkipping line 470: expected 2 fields, saw 3\\nSkipping line 472: expected 2 fields, saw 3\\nSkipping line 476: expected 2 fields, saw 3\\nSkipping line 477: expected 2 fields, saw 3\\nSkipping line 483: expected 2 fields, saw 3\\nSkipping line 487: expected 2 fields, saw 3\\nSkipping line 490: expected 2 fields, saw 3\\nSkipping line 494: expected 2 fields, saw 3\\nSkipping line 499: expected 2 fields, saw 3\\nSkipping line 502: expected 2 fields, saw 4\\nSkipping line 503: expected 2 fields, saw 3\\nSkipping line 512: expected 2 fields, saw 3\\nSkipping line 513: expected 2 fields, saw 3\\nSkipping line 519: expected 2 fields, saw 4\\nSkipping line 520: expected 2 fields, saw 3\\nSkipping line 521: expected 2 fields, saw 3\\nSkipping line 522: expected 2 fields, saw 3\\nSkipping line 524: expected 2 fields, saw 3\\nSkipping line 527: expected 2 fields, saw 3\\nSkipping line 529: expected 2 fields, saw 3\\nSkipping line 534: expected 2 fields, saw 3\\nSkipping line 535: expected 2 fields, saw 4\\nSkipping line 539: expected 2 fields, saw 5\\nSkipping line 546: expected 2 fields, saw 3\\nSkipping line 552: expected 2 fields, saw 3\\nSkipping line 556: expected 2 fields, saw 3\\nSkipping line 557: expected 2 fields, saw 3\\nSkipping line 575: expected 2 fields, saw 3\\nSkipping line 577: expected 2 fields, saw 3\\nSkipping line 581: expected 2 fields, saw 3\\nSkipping line 584: expected 2 fields, saw 3\\nSkipping line 588: expected 2 fields, saw 3\\nSkipping line 590: expected 2 fields, saw 4\\nSkipping line 603: expected 2 fields, saw 5\\nSkipping line 605: expected 2 fields, saw 4\\nSkipping line 614: expected 2 fields, saw 3\\nSkipping line 615: expected 2 fields, saw 3\\nSkipping line 619: expected 2 fields, saw 3\\nSkipping line 625: expected 2 fields, saw 3\\nSkipping line 631: expected 2 fields, saw 3\\nSkipping line 634: expected 2 fields, saw 3\\nSkipping line 639: expected 2 fields, saw 5\\nSkipping line 640: expected 2 fields, saw 3\\nSkipping line 644: expected 2 fields, saw 4\\nSkipping line 655: expected 2 fields, saw 3\\nSkipping line 662: expected 2 fields, saw 5\\nSkipping line 663: expected 2 fields, saw 3\\nSkipping line 670: expected 2 fields, saw 3\\nSkipping line 682: expected 2 fields, saw 3\\nSkipping line 685: expected 2 fields, saw 3\\nSkipping line 688: expected 2 fields, saw 5\\nSkipping line 689: expected 2 fields, saw 3\\nSkipping line 691: expected 2 fields, saw 3\\nSkipping line 693: expected 2 fields, saw 3\\nSkipping line 696: expected 2 fields, saw 4\\nSkipping line 698: expected 2 fields, saw 3\\nSkipping line 700: expected 2 fields, saw 3\\nSkipping line 701: expected 2 fields, saw 4\\nSkipping line 702: expected 2 fields, saw 3\\nSkipping line 711: expected 2 fields, saw 3\\nSkipping line 712: expected 2 fields, saw 3\\nSkipping line 716: expected 2 fields, saw 3\\nSkipping line 720: expected 2 fields, saw 3\\nSkipping line 722: expected 2 fields, saw 5\\nSkipping line 724: expected 2 fields, saw 3\\nSkipping line 728: expected 2 fields, saw 3\\nSkipping line 731: expected 2 fields, saw 3\\nSkipping line 732: expected 2 fields, saw 3\\nSkipping line 735: expected 2 fields, saw 3\\nSkipping line 737: expected 2 fields, saw 3\\nSkipping line 738: expected 2 fields, saw 3\\nSkipping line 739: expected 2 fields, saw 3\\nSkipping line 745: expected 2 fields, saw 4\\nSkipping line 749: expected 2 fields, saw 3\\nSkipping line 750: expected 2 fields, saw 3\\nSkipping line 752: expected 2 fields, saw 3\\nSkipping line 753: expected 2 fields, saw 4\\nSkipping line 754: expected 2 fields, saw 3\\nSkipping line 756: expected 2 fields, saw 3\\nSkipping line 757: expected 2 fields, saw 3\\nSkipping line 762: expected 2 fields, saw 4\\nSkipping line 764: expected 2 fields, saw 3\\nSkipping line 770: expected 2 fields, saw 6\\nSkipping line 775: expected 2 fields, saw 3\\nSkipping line 781: expected 2 fields, saw 3\\nSkipping line 784: expected 2 fields, saw 4\\nSkipping line 786: expected 2 fields, saw 4\\nSkipping line 789: expected 2 fields, saw 3\\nSkipping line 790: expected 2 fields, saw 4\\nSkipping line 791: expected 2 fields, saw 3\\nSkipping line 796: expected 2 fields, saw 3\\nSkipping line 798: expected 2 fields, saw 3\\nSkipping line 807: expected 2 fields, saw 4\\nSkipping line 810: expected 2 fields, saw 4\\nSkipping line 811: expected 2 fields, saw 3\\nSkipping line 814: expected 2 fields, saw 4\\nSkipping line 831: expected 2 fields, saw 4\\nSkipping line 835: expected 2 fields, saw 3\\nSkipping line 842: expected 2 fields, saw 3\\nSkipping line 844: expected 2 fields, saw 3\\nSkipping line 849: expected 2 fields, saw 3\\nSkipping line 850: expected 2 fields, saw 3\\nSkipping line 851: expected 2 fields, saw 5\\nSkipping line 856: expected 2 fields, saw 4\\nSkipping line 858: expected 2 fields, saw 3\\nSkipping line 862: expected 2 fields, saw 3\\nSkipping line 864: expected 2 fields, saw 4\\nSkipping line 867: expected 2 fields, saw 3\\nSkipping line 869: expected 2 fields, saw 3\\nSkipping line 870: expected 2 fields, saw 3\\nSkipping line 872: expected 2 fields, saw 3\\nSkipping line 874: expected 2 fields, saw 4\\nSkipping line 880: expected 2 fields, saw 3\\nSkipping line 881: expected 2 fields, saw 3\\nSkipping line 883: expected 2 fields, saw 3\\nSkipping line 886: expected 2 fields, saw 3\\nSkipping line 889: expected 2 fields, saw 3\\nSkipping line 891: expected 2 fields, saw 3\\nSkipping line 899: expected 2 fields, saw 3\\nSkipping line 901: expected 2 fields, saw 3\\nSkipping line 905: expected 2 fields, saw 3\\nSkipping line 907: expected 2 fields, saw 4\\nSkipping line 913: expected 2 fields, saw 3\\nSkipping line 914: expected 2 fields, saw 3\\nSkipping line 915: expected 2 fields, saw 3\\nSkipping line 918: expected 2 fields, saw 3\\nSkipping line 921: expected 2 fields, saw 3\\nSkipping line 922: expected 2 fields, saw 3\\nSkipping line 924: expected 2 fields, saw 3\\nSkipping line 926: expected 2 fields, saw 4\\nSkipping line 927: expected 2 fields, saw 3\\nSkipping line 928: expected 2 fields, saw 3\\nSkipping line 932: expected 2 fields, saw 4\\nSkipping line 933: expected 2 fields, saw 3\\nSkipping line 938: expected 2 fields, saw 3\\nSkipping line 940: expected 2 fields, saw 3\\nSkipping line 941: expected 2 fields, saw 4\\nSkipping line 947: expected 2 fields, saw 3\\nSkipping line 948: expected 2 fields, saw 4\\nSkipping line 951: expected 2 fields, saw 3\\nSkipping line 954: expected 2 fields, saw 3\\nSkipping line 956: expected 2 fields, saw 3\\nSkipping line 958: expected 2 fields, saw 3\\nSkipping line 962: expected 2 fields, saw 4\\nSkipping line 974: expected 2 fields, saw 3\\nSkipping line 976: expected 2 fields, saw 5\\nSkipping line 978: expected 2 fields, saw 3\\nSkipping line 981: expected 2 fields, saw 3\\nSkipping line 982: expected 2 fields, saw 3\\nSkipping line 986: expected 2 fields, saw 3\\nSkipping line 989: expected 2 fields, saw 4\\nSkipping line 1000: expected 2 fields, saw 3\\nSkipping line 1001: expected 2 fields, saw 4\\n'\n"
     ]
    }
   ],
   "source": [
    "df = pd.read_csv(\"Restaurant_Reviews.csv\", error_bad_lines=False)"
   ]
  },
  {
   "cell_type": "code",
   "execution_count": 940,
   "id": "183cac79",
   "metadata": {},
   "outputs": [
    {
     "data": {
      "text/html": [
       "<div>\n",
       "<style scoped>\n",
       "    .dataframe tbody tr th:only-of-type {\n",
       "        vertical-align: middle;\n",
       "    }\n",
       "\n",
       "    .dataframe tbody tr th {\n",
       "        vertical-align: top;\n",
       "    }\n",
       "\n",
       "    .dataframe thead th {\n",
       "        text-align: right;\n",
       "    }\n",
       "</style>\n",
       "<table border=\"1\" class=\"dataframe\">\n",
       "  <thead>\n",
       "    <tr style=\"text-align: right;\">\n",
       "      <th></th>\n",
       "      <th>Review</th>\n",
       "      <th>Liked</th>\n",
       "    </tr>\n",
       "  </thead>\n",
       "  <tbody>\n",
       "    <tr>\n",
       "      <th>0</th>\n",
       "      <td>Wow... Loved this place.</td>\n",
       "      <td>1.0</td>\n",
       "    </tr>\n",
       "    <tr>\n",
       "      <th>1</th>\n",
       "      <td>Crust is not good.</td>\n",
       "      <td>0.0</td>\n",
       "    </tr>\n",
       "    <tr>\n",
       "      <th>2</th>\n",
       "      <td>Not tasty and the texture was just nasty.</td>\n",
       "      <td>0.0</td>\n",
       "    </tr>\n",
       "    <tr>\n",
       "      <th>3</th>\n",
       "      <td>Stopped by during the late May bank holiday of...</td>\n",
       "      <td>1.0</td>\n",
       "    </tr>\n",
       "    <tr>\n",
       "      <th>4</th>\n",
       "      <td>The selection on the menu was great and so wer...</td>\n",
       "      <td>1.0</td>\n",
       "    </tr>\n",
       "  </tbody>\n",
       "</table>\n",
       "</div>"
      ],
      "text/plain": [
       "                                              Review  Liked\n",
       "0                           Wow... Loved this place.    1.0\n",
       "1                                 Crust is not good.    0.0\n",
       "2          Not tasty and the texture was just nasty.    0.0\n",
       "3  Stopped by during the late May bank holiday of...    1.0\n",
       "4  The selection on the menu was great and so wer...    1.0"
      ]
     },
     "execution_count": 940,
     "metadata": {},
     "output_type": "execute_result"
    }
   ],
   "source": [
    "df.head()"
   ]
  },
  {
   "cell_type": "markdown",
   "id": "cd73cb24",
   "metadata": {},
   "source": [
    "# Veri Ön İşleme"
   ]
  },
  {
   "cell_type": "code",
   "execution_count": 941,
   "id": "91caa5f7",
   "metadata": {
    "collapsed": true
   },
   "outputs": [
    {
     "name": "stderr",
     "output_type": "stream",
     "text": [
      "<ipython-input-941-09e6cb806dd9>:2: FutureWarning: The default value of regex will change from True to False in a future version.\n",
      "  df[\"Review\"] = df[\"Review\"].str.replace(\"[^\\w\\s]\",\"\")\n",
      "<ipython-input-941-09e6cb806dd9>:3: FutureWarning: The default value of regex will change from True to False in a future version.\n",
      "  df[\"Review\"] = df[\"Review\"].str.replace(\"\\d\",\"\")\n"
     ]
    }
   ],
   "source": [
    "#Noktalama İşaretlerinin ve Sayıların Silinmesi\n",
    "df[\"Review\"] = df[\"Review\"].str.replace(\"[^\\w\\s]\",\"\")\n",
    "df[\"Review\"] = df[\"Review\"].str.replace(\"\\d\",\"\")"
   ]
  },
  {
   "cell_type": "code",
   "execution_count": 942,
   "id": "1bf3fa85",
   "metadata": {},
   "outputs": [],
   "source": [
    "#Büyük-Küçük Harf\n",
    "df[\"Review\"] = df[\"Review\"].apply(lambda x: \" \".join(x.lower() for x in x .split()))"
   ]
  },
  {
   "cell_type": "code",
   "execution_count": 943,
   "id": "f08615ca",
   "metadata": {},
   "outputs": [],
   "source": [
    "#StopWordslerin Silinmesi\n",
    "sw=stopwords.words(\"english\")\n",
    "df[\"Review\"] = df[\"Review\"].apply(lambda x: \" \".join(x for x in x.split() if x not in sw)) "
   ]
  },
  {
   "cell_type": "code",
   "execution_count": 944,
   "id": "2bcfbb4e",
   "metadata": {},
   "outputs": [],
   "source": [
    "#Az Geçen Kelimelerin Silinmesi\n",
    "pd.Series(\" \".join(df[\"Review\"]).split()).value_counts()\n",
    "sil =pd.Series(\" \".join(df[\"Review\"]).split()).value_counts()[-900:]\n",
    "df[\"Review\"] = df[\"Review\"].apply(lambda x: \" \".join(x for x in x.split() if x not in sil))"
   ]
  },
  {
   "cell_type": "code",
   "execution_count": 945,
   "id": "e1efa8d9",
   "metadata": {
    "collapsed": true
   },
   "outputs": [
    {
     "name": "stderr",
     "output_type": "stream",
     "text": [
      "[nltk_data] Downloading package wordnet to\n",
      "[nltk_data]     C:\\Users\\Zehra\\AppData\\Roaming\\nltk_data...\n",
      "[nltk_data]   Package wordnet is already up-to-date!\n"
     ]
    },
    {
     "data": {
      "text/html": [
       "<div>\n",
       "<style scoped>\n",
       "    .dataframe tbody tr th:only-of-type {\n",
       "        vertical-align: middle;\n",
       "    }\n",
       "\n",
       "    .dataframe tbody tr th {\n",
       "        vertical-align: top;\n",
       "    }\n",
       "\n",
       "    .dataframe thead th {\n",
       "        text-align: right;\n",
       "    }\n",
       "</style>\n",
       "<table border=\"1\" class=\"dataframe\">\n",
       "  <thead>\n",
       "    <tr style=\"text-align: right;\">\n",
       "      <th></th>\n",
       "      <th>Review</th>\n",
       "      <th>Liked</th>\n",
       "    </tr>\n",
       "  </thead>\n",
       "  <tbody>\n",
       "    <tr>\n",
       "      <th>0</th>\n",
       "      <td>wow loved place</td>\n",
       "      <td>1.0</td>\n",
       "    </tr>\n",
       "    <tr>\n",
       "      <th>1</th>\n",
       "      <td>crust good</td>\n",
       "      <td>0.0</td>\n",
       "    </tr>\n",
       "    <tr>\n",
       "      <th>2</th>\n",
       "      <td>tasty texture nasty</td>\n",
       "      <td>0.0</td>\n",
       "    </tr>\n",
       "    <tr>\n",
       "      <th>3</th>\n",
       "      <td>may recommendation loved</td>\n",
       "      <td>1.0</td>\n",
       "    </tr>\n",
       "    <tr>\n",
       "      <th>4</th>\n",
       "      <td>selection menu great price</td>\n",
       "      <td>1.0</td>\n",
       "    </tr>\n",
       "  </tbody>\n",
       "</table>\n",
       "</div>"
      ],
      "text/plain": [
       "                       Review  Liked\n",
       "0             wow loved place    1.0\n",
       "1                  crust good    0.0\n",
       "2         tasty texture nasty    0.0\n",
       "3    may recommendation loved    1.0\n",
       "4  selection menu great price    1.0"
      ]
     },
     "execution_count": 945,
     "metadata": {},
     "output_type": "execute_result"
    }
   ],
   "source": [
    "#Lemmatization\n",
    "nltk.download(\"wordnet\")\n",
    "df[\"Review\"] = df[\"Review\"].apply(lambda x: \" \".join(Word(word).lemmatize() for word in x.split()))\n",
    "df.head()"
   ]
  },
  {
   "cell_type": "code",
   "execution_count": 946,
   "id": "ede682a9",
   "metadata": {},
   "outputs": [
    {
     "data": {
      "text/plain": [
       "Review     0\n",
       "Liked     12\n",
       "dtype: int64"
      ]
     },
     "execution_count": 946,
     "metadata": {},
     "output_type": "execute_result"
    }
   ],
   "source": [
    "df.isnull().sum()"
   ]
  },
  {
   "cell_type": "markdown",
   "id": "06f3f344",
   "metadata": {},
   "source": [
    "# Metin Görselleştirme"
   ]
  },
  {
   "cell_type": "code",
   "execution_count": 947,
   "id": "eb887a05",
   "metadata": {},
   "outputs": [],
   "source": [
    "#Barplot"
   ]
  },
  {
   "cell_type": "code",
   "execution_count": 948,
   "id": "8184ec1e",
   "metadata": {},
   "outputs": [],
   "source": [
    "frekans=(df[\"Review\"]).apply(lambda x: pd.value_counts(x.split(\" \"))).sum(axis=0).reset_index()"
   ]
  },
  {
   "cell_type": "code",
   "execution_count": 949,
   "id": "fdccad85",
   "metadata": {},
   "outputs": [],
   "source": [
    "frekans.columns=[\"words\", \"tf\"]"
   ]
  },
  {
   "cell_type": "code",
   "execution_count": 950,
   "id": "207fe144",
   "metadata": {},
   "outputs": [
    {
     "data": {
      "text/html": [
       "<div>\n",
       "<style scoped>\n",
       "    .dataframe tbody tr th:only-of-type {\n",
       "        vertical-align: middle;\n",
       "    }\n",
       "\n",
       "    .dataframe tbody tr th {\n",
       "        vertical-align: top;\n",
       "    }\n",
       "\n",
       "    .dataframe thead th {\n",
       "        text-align: right;\n",
       "    }\n",
       "</style>\n",
       "<table border=\"1\" class=\"dataframe\">\n",
       "  <thead>\n",
       "    <tr style=\"text-align: right;\">\n",
       "      <th></th>\n",
       "      <th>words</th>\n",
       "      <th>tf</th>\n",
       "    </tr>\n",
       "  </thead>\n",
       "  <tbody>\n",
       "    <tr>\n",
       "      <th>0</th>\n",
       "      <td>place</td>\n",
       "      <td>73.0</td>\n",
       "    </tr>\n",
       "    <tr>\n",
       "      <th>1</th>\n",
       "      <td>loved</td>\n",
       "      <td>7.0</td>\n",
       "    </tr>\n",
       "    <tr>\n",
       "      <th>2</th>\n",
       "      <td>wow</td>\n",
       "      <td>3.0</td>\n",
       "    </tr>\n",
       "    <tr>\n",
       "      <th>3</th>\n",
       "      <td>good</td>\n",
       "      <td>55.0</td>\n",
       "    </tr>\n",
       "    <tr>\n",
       "      <th>4</th>\n",
       "      <td>crust</td>\n",
       "      <td>2.0</td>\n",
       "    </tr>\n",
       "  </tbody>\n",
       "</table>\n",
       "</div>"
      ],
      "text/plain": [
       "   words    tf\n",
       "0  place  73.0\n",
       "1  loved   7.0\n",
       "2    wow   3.0\n",
       "3   good  55.0\n",
       "4  crust   2.0"
      ]
     },
     "execution_count": 950,
     "metadata": {},
     "output_type": "execute_result"
    }
   ],
   "source": [
    "frekans.head()"
   ]
  },
  {
   "cell_type": "code",
   "execution_count": 951,
   "id": "babf9332",
   "metadata": {},
   "outputs": [
    {
     "data": {
      "image/png": "[encoded data removed]",
      "text/plain": [
       "<Figure size 432x288 with 1 Axes>"
      ]
     },
     "metadata": {
      "needs_background": "light"
     },
     "output_type": "display_data"
    }
   ],
   "source": [
    "a=frekans[frekans[\"tf\"]>25]\n",
    "a.plot.bar(x=\"words\",y=\"tf\");"
   ]
  },
  {
   "cell_type": "code",
   "execution_count": 952,
   "id": "d1c71dbe",
   "metadata": {},
   "outputs": [],
   "source": [
    "#WordCloud"
   ]
  },
  {
   "cell_type": "code",
   "execution_count": 953,
   "id": "d170741e",
   "metadata": {
    "collapsed": true
   },
   "outputs": [
    {
     "name": "stdout",
     "output_type": "stream",
     "text": [
      "Requirement already satisfied: Wordcloud in c:\\users\\zehra\\anaconda3\\lib\\site-packages (1.8.1)\n",
      "Requirement already satisfied: pillow in c:\\users\\zehra\\anaconda3\\lib\\site-packages (from Wordcloud) (8.2.0)\n",
      "Requirement already satisfied: numpy>=1.6.1 in c:\\users\\zehra\\anaconda3\\lib\\site-packages (from Wordcloud) (1.20.1)\n",
      "Requirement already satisfied: matplotlib in c:\\users\\zehra\\anaconda3\\lib\\site-packages (from Wordcloud) (3.3.4)\n",
      "Requirement already satisfied: kiwisolver>=1.0.1 in c:\\users\\zehra\\anaconda3\\lib\\site-packages (from matplotlib->Wordcloud) (1.3.1)\n",
      "Requirement already satisfied: python-dateutil>=2.1 in c:\\users\\zehra\\anaconda3\\lib\\site-packages (from matplotlib->Wordcloud) (2.8.1)\n",
      "Requirement already satisfied: cycler>=0.10 in c:\\users\\zehra\\anaconda3\\lib\\site-packages (from matplotlib->Wordcloud) (0.10.0)\n",
      "Requirement already satisfied: pyparsing!=2.0.4,!=2.1.2,!=2.1.6,>=2.0.3 in c:\\users\\zehra\\anaconda3\\lib\\site-packages (from matplotlib->Wordcloud) (2.4.7)\n",
      "Requirement already satisfied: six in c:\\users\\zehra\\anaconda3\\lib\\site-packages (from cycler>=0.10->matplotlib->Wordcloud) (1.15.0)\n"
     ]
    }
   ],
   "source": [
    "!pip install Wordcloud"
   ]
  },
  {
   "cell_type": "code",
   "execution_count": 954,
   "id": "99d858f6",
   "metadata": {},
   "outputs": [],
   "source": [
    "text= \" \".join(i for i in df.Review)"
   ]
  },
  {
   "cell_type": "code",
   "execution_count": 960,
   "id": "f25955fc",
   "metadata": {},
   "outputs": [
    {
     "data": {
      "image/png": "[encoded data removed]",
      "text/plain": [
       "<Figure size 864x864 with 1 Axes>"
      ]
     },
     "metadata": {
      "needs_background": "light"
     },
     "output_type": "display_data"
    }
   ],
   "source": [
    "wordcloud=WordCloud(max_font_size=60, max_words=50, background_color=\"black\").generate(text)\n",
    "plt.figure(figsize=[12,12])\n",
    "plt.imshow(wordcloud, interpolation = \"bilinear\")\n",
    "plt.axis(\"off\")\n",
    "plt.show()"
   ]
  },
  {
   "cell_type": "markdown",
   "id": "c2144e8b",
   "metadata": {},
   "source": [
    "# Öznitelik Çıkarımı"
   ]
  },
  {
   "cell_type": "code",
   "execution_count": 961,
   "id": "1c10cd5d",
   "metadata": {},
   "outputs": [],
   "source": [
    "cv = CountVectorizer(max_features = 1000)"
   ]
  },
  {
   "cell_type": "code",
   "execution_count": 962,
   "id": "ce485c22",
   "metadata": {},
   "outputs": [],
   "source": [
    "x = cv.fit_transform(df[\"Review\"]).toarray()"
   ]
  },
  {
   "cell_type": "markdown",
   "id": "1c20daa0",
   "metadata": {},
   "source": [
    "# Makine Öğrenmesi"
   ]
  },
  {
   "cell_type": "code",
   "execution_count": 966,
   "id": "70a45993",
   "metadata": {},
   "outputs": [],
   "source": [
    "x_train, x_test, y_train, y_test = train_test_split(x, y, test_size = 0.2, random_state=42)"
   ]
  },
  {
   "cell_type": "code",
   "execution_count": 967,
   "id": "c894874f",
   "metadata": {
    "collapsed": true
   },
   "outputs": [
    {
     "name": "stdout",
     "output_type": "stream",
     "text": [
      "nan\n",
      "nan\n",
      "nan\n",
      "nan\n",
      "nan\n",
      "nan\n",
      "nan\n",
      "nan\n",
      "nan\n",
      "nan\n"
     ]
    }
   ],
   "source": [
    "count = 0\n",
    "for i in y_train:\n",
    "     \n",
    "    if(pd.isna(i)):\n",
    "        print(y_train[count])\n",
    "        y_train[count] = 0\n",
    "    count +=1"
   ]
  },
  {
   "cell_type": "code",
   "execution_count": 968,
   "id": "a03e4f83",
   "metadata": {},
   "outputs": [
    {
     "name": "stdout",
     "output_type": "stream",
     "text": [
      "1.0\n",
      "0.0\n"
     ]
    }
   ],
   "source": [
    "count = 0\n",
    "for i in y_test:\n",
    "     \n",
    "    if(pd.isna(i)):\n",
    "        print(y_train[count])\n",
    "        y_test[count] = 0\n",
    "    count +=1 "
   ]
  },
  {
   "cell_type": "markdown",
   "id": "e0bdcfff",
   "metadata": {},
   "source": [
    "### Naive Bayes"
   ]
  },
  {
   "cell_type": "code",
   "execution_count": 969,
   "id": "c3f581a7",
   "metadata": {},
   "outputs": [],
   "source": [
    "gnb = GaussianNB()"
   ]
  },
  {
   "cell_type": "code",
   "execution_count": 970,
   "id": "37bd2df8",
   "metadata": {},
   "outputs": [
    {
     "data": {
      "text/plain": [
       "GaussianNB()"
      ]
     },
     "execution_count": 970,
     "metadata": {},
     "output_type": "execute_result"
    }
   ],
   "source": [
    "gnb.fit(x_train,y_train)"
   ]
  },
  {
   "cell_type": "code",
   "execution_count": 971,
   "id": "44836565",
   "metadata": {},
   "outputs": [],
   "source": [
    "y_pred = gnb.predict(x_test)"
   ]
  },
  {
   "cell_type": "code",
   "execution_count": 972,
   "id": "2d782ae5",
   "metadata": {},
   "outputs": [
    {
     "data": {
      "text/plain": [
       "array([[44, 34],\n",
       "       [ 4, 62]], dtype=int64)"
      ]
     },
     "execution_count": 972,
     "metadata": {},
     "output_type": "execute_result"
    }
   ],
   "source": [
    "confusion_matrix(y_test,y_pred)"
   ]
  },
  {
   "cell_type": "code",
   "execution_count": 973,
   "id": "3d5b2c71",
   "metadata": {},
   "outputs": [
    {
     "data": {
      "text/plain": [
       "0.7361111111111112"
      ]
     },
     "execution_count": 973,
     "metadata": {},
     "output_type": "execute_result"
    }
   ],
   "source": [
    "accuracy_score(y_test, y_pred)"
   ]
  },
  {
   "cell_type": "markdown",
   "id": "2aa62508",
   "metadata": {},
   "source": [
    "### Lojistik Regresyon"
   ]
  },
  {
   "cell_type": "code",
   "execution_count": 974,
   "id": "fa51884f",
   "metadata": {},
   "outputs": [
    {
     "data": {
      "text/plain": [
       "LogisticRegression()"
      ]
     },
     "execution_count": 974,
     "metadata": {},
     "output_type": "execute_result"
    }
   ],
   "source": [
    "lr=linear_model.LogisticRegression()\n",
    "lr.fit(x_train, y_train)"
   ]
  },
  {
   "cell_type": "code",
   "execution_count": 975,
   "id": "b381c561",
   "metadata": {},
   "outputs": [],
   "source": [
    "y_pred1 = lr.predict(x_test)"
   ]
  },
  {
   "cell_type": "code",
   "execution_count": 976,
   "id": "fb7b45c1",
   "metadata": {},
   "outputs": [
    {
     "data": {
      "text/plain": [
       "array([[61, 17],\n",
       "       [13, 53]], dtype=int64)"
      ]
     },
     "execution_count": 976,
     "metadata": {},
     "output_type": "execute_result"
    }
   ],
   "source": [
    "confusion_matrix(y_test,y_pred1)"
   ]
  },
  {
   "cell_type": "code",
   "execution_count": 977,
   "id": "f4616400",
   "metadata": {},
   "outputs": [
    {
     "data": {
      "text/plain": [
       "0.7916666666666666"
      ]
     },
     "execution_count": 977,
     "metadata": {},
     "output_type": "execute_result"
    }
   ],
   "source": [
    "accuracy_score(y_test, y_pred1)"
   ]
  },
  {
   "cell_type": "markdown",
   "id": "238bdd30",
   "metadata": {},
   "source": [
    "### XGBoost"
   ]
  },
  {
   "cell_type": "code",
   "execution_count": 978,
   "id": "493ae7c3",
   "metadata": {
    "collapsed": true
   },
   "outputs": [
    {
     "name": "stderr",
     "output_type": "stream",
     "text": [
      "C:\\Users\\Zehra\\anaconda3\\lib\\site-packages\\xgboost\\sklearn.py:1146: UserWarning: The use of label encoder in XGBClassifier is deprecated and will be removed in a future release. To remove this warning, do the following: 1) Pass option use_label_encoder=False when constructing XGBClassifier object; and 2) Encode your labels (y) as integers starting with 0, i.e. 0, 1, 2, ..., [num_class - 1].\n",
      "  warnings.warn(label_encoder_deprecation_msg, UserWarning)\n"
     ]
    },
    {
     "name": "stdout",
     "output_type": "stream",
     "text": [
      "[11:04:13] WARNING: C:/Users/Administrator/workspace/xgboost-win64_release_1.4.0/src/learner.cc:1095: Starting in XGBoost 1.3.0, the default evaluation metric used with the objective 'binary:logistic' was changed from 'error' to 'logloss'. Explicitly set eval_metric if you'd like to restore the old behavior.\n"
     ]
    },
    {
     "data": {
      "text/plain": [
       "XGBClassifier(base_score=0.5, booster='gbtree', colsample_bylevel=1,\n",
       "              colsample_bynode=1, colsample_bytree=1, gamma=0, gpu_id=-1,\n",
       "              importance_type='gain', interaction_constraints='',\n",
       "              learning_rate=0.300000012, max_delta_step=0, max_depth=6,\n",
       "              min_child_weight=1, missing=nan, monotone_constraints='()',\n",
       "              n_estimators=100, n_jobs=4, num_parallel_tree=1, random_state=0,\n",
       "              reg_alpha=0, reg_lambda=1, scale_pos_weight=1, subsample=1,\n",
       "              tree_method='exact', validate_parameters=1, verbosity=None)"
      ]
     },
     "execution_count": 978,
     "metadata": {},
     "output_type": "execute_result"
    }
   ],
   "source": [
    "xgboost = XGBClassifier()\n",
    "xgboost.fit(x_train, y_train)"
   ]
  },
  {
   "cell_type": "code",
   "execution_count": 980,
   "id": "a05deb69",
   "metadata": {},
   "outputs": [],
   "source": [
    "y_pred4 = xgboost.predict(x_test)"
   ]
  },
  {
   "cell_type": "code",
   "execution_count": 981,
   "id": "99887258",
   "metadata": {},
   "outputs": [
    {
     "data": {
      "text/plain": [
       "array([[60, 18],\n",
       "       [22, 44]], dtype=int64)"
      ]
     },
     "execution_count": 981,
     "metadata": {},
     "output_type": "execute_result"
    }
   ],
   "source": [
    "confusion_matrix(y_test, y_pred4)"
   ]
  },
  {
   "cell_type": "code",
   "execution_count": 982,
   "id": "01fd09e7",
   "metadata": {},
   "outputs": [
    {
     "data": {
      "text/plain": [
       "0.7222222222222222"
      ]
     },
     "execution_count": 982,
     "metadata": {},
     "output_type": "execute_result"
    }
   ],
   "source": [
    "accuracy_score(y_test, y_pred4)"
   ]
  },
  {
   "cell_type": "markdown",
   "id": "944b2279",
   "metadata": {},
   "source": [
    "### Ridge Classifier"
   ]
  },
  {
   "cell_type": "code",
   "execution_count": 983,
   "id": "9e217cf5",
   "metadata": {},
   "outputs": [],
   "source": [
    "ridge = RidgeClassifier()"
   ]
  },
  {
   "cell_type": "code",
   "execution_count": 986,
   "id": "e51f734d",
   "metadata": {},
   "outputs": [
    {
     "data": {
      "text/plain": [
       "RidgeClassifier()"
      ]
     },
     "execution_count": 986,
     "metadata": {},
     "output_type": "execute_result"
    }
   ],
   "source": [
    "ridge.fit(x_train, y_train)"
   ]
  },
  {
   "cell_type": "code",
   "execution_count": 987,
   "id": "c5ce15e5",
   "metadata": {},
   "outputs": [],
   "source": [
    "y_pred5 = ridge.predict(x_test)"
   ]
  },
  {
   "cell_type": "code",
   "execution_count": 988,
   "id": "1a4562ce",
   "metadata": {},
   "outputs": [
    {
     "data": {
      "text/plain": [
       "array([[56, 22],\n",
       "       [13, 53]], dtype=int64)"
      ]
     },
     "execution_count": 988,
     "metadata": {},
     "output_type": "execute_result"
    }
   ],
   "source": [
    "confusion_matrix(y_test, y_pred5)"
   ]
  },
  {
   "cell_type": "code",
   "execution_count": 989,
   "id": "80e46d4f",
   "metadata": {},
   "outputs": [
    {
     "data": {
      "text/plain": [
       "0.7569444444444444"
      ]
     },
     "execution_count": 989,
     "metadata": {},
     "output_type": "execute_result"
    }
   ],
   "source": [
    "accuracy_score(y_test, y_pred5)"
   ]
  },
  {
   "cell_type": "markdown",
   "id": "bb79d9a7",
   "metadata": {},
   "source": [
    "### Stacking"
   ]
  },
  {
   "cell_type": "code",
   "execution_count": 990,
   "id": "0067c775",
   "metadata": {},
   "outputs": [],
   "source": [
    "voting_clf = VotingClassifier(estimators= [(\"xgboost\", xgboost), (\"gnb\", gnb), (\"lr\", lr), (\"ridge\", ridge)], voting=\"hard\")"
   ]
  },
  {
   "cell_type": "code",
   "execution_count": 991,
   "id": "3081c01b",
   "metadata": {
    "collapsed": true
   },
   "outputs": [
    {
     "name": "stderr",
     "output_type": "stream",
     "text": [
      "C:\\Users\\Zehra\\anaconda3\\lib\\site-packages\\xgboost\\sklearn.py:1146: UserWarning: The use of label encoder in XGBClassifier is deprecated and will be removed in a future release. To remove this warning, do the following: 1) Pass option use_label_encoder=False when constructing XGBClassifier object; and 2) Encode your labels (y) as integers starting with 0, i.e. 0, 1, 2, ..., [num_class - 1].\n",
      "  warnings.warn(label_encoder_deprecation_msg, UserWarning)\n"
     ]
    },
    {
     "name": "stdout",
     "output_type": "stream",
     "text": [
      "[11:04:55] WARNING: C:/Users/Administrator/workspace/xgboost-win64_release_1.4.0/src/learner.cc:1095: Starting in XGBoost 1.3.0, the default evaluation metric used with the objective 'binary:logistic' was changed from 'error' to 'logloss'. Explicitly set eval_metric if you'd like to restore the old behavior.\n"
     ]
    },
    {
     "data": {
      "text/plain": [
       "VotingClassifier(estimators=[('xgboost',\n",
       "                              XGBClassifier(base_score=0.5, booster='gbtree',\n",
       "                                            colsample_bylevel=1,\n",
       "                                            colsample_bynode=1,\n",
       "                                            colsample_bytree=1, gamma=0,\n",
       "                                            gpu_id=-1, importance_type='gain',\n",
       "                                            interaction_constraints='',\n",
       "                                            learning_rate=0.300000012,\n",
       "                                            max_delta_step=0, max_depth=6,\n",
       "                                            min_child_weight=1, missing=nan,\n",
       "                                            monotone_constraints='()',\n",
       "                                            n_estimators=100, n_jobs=4,\n",
       "                                            num_parallel_tree=1, random_state=0,\n",
       "                                            reg_alpha=0, reg_lambda=1,\n",
       "                                            scale_pos_weight=1, subsample=1,\n",
       "                                            tree_method='exact',\n",
       "                                            validate_parameters=1,\n",
       "                                            verbosity=None)),\n",
       "                             ('gnb', GaussianNB()),\n",
       "                             ('lr', LogisticRegression()),\n",
       "                             ('ridge', RidgeClassifier())])"
      ]
     },
     "execution_count": 991,
     "metadata": {},
     "output_type": "execute_result"
    }
   ],
   "source": [
    "voting_clf.fit(x_train, y_train)"
   ]
  },
  {
   "cell_type": "code",
   "execution_count": 992,
   "id": "f25bde52",
   "metadata": {},
   "outputs": [],
   "source": [
    "y_pred6 = voting_clf.predict(x_test)"
   ]
  },
  {
   "cell_type": "code",
   "execution_count": 993,
   "id": "8814f64c",
   "metadata": {},
   "outputs": [
    {
     "data": {
      "text/plain": [
       "array([[64, 14],\n",
       "       [13, 53]], dtype=int64)"
      ]
     },
     "execution_count": 993,
     "metadata": {},
     "output_type": "execute_result"
    }
   ],
   "source": [
    "confusion_matrix(y_test, y_pred6)"
   ]
  },
  {
   "cell_type": "code",
   "execution_count": 994,
   "id": "61c17493",
   "metadata": {},
   "outputs": [
    {
     "data": {
      "text/plain": [
       "0.8125"
      ]
     },
     "execution_count": 994,
     "metadata": {},
     "output_type": "execute_result"
    }
   ],
   "source": [
    "accuracy_score(y_test, y_pred6)"
   ]
  },
  {
   "cell_type": "code",
   "execution_count": null,
   "id": "180bde0e",
   "metadata": {},
   "outputs": [],
   "source": []
  },
  {
   "cell_type": "code",
   "execution_count": 995,
   "id": "9d0f233a",
   "metadata": {},
   "outputs": [],
   "source": [
    "#Deneme"
   ]
  },
  {
   "cell_type": "code",
   "execution_count": 996,
   "id": "8f61d758",
   "metadata": {},
   "outputs": [],
   "source": [
    "yorum='wow loved place'"
   ]
  },
  {
   "cell_type": "code",
   "execution_count": 997,
   "id": "422bc60b",
   "metadata": {},
   "outputs": [
    {
     "data": {
      "text/plain": [
       "'wow loved place'"
      ]
     },
     "execution_count": 997,
     "metadata": {},
     "output_type": "execute_result"
    }
   ],
   "source": [
    "yorum"
   ]
  },
  {
   "cell_type": "code",
   "execution_count": 998,
   "id": "f9605e3f",
   "metadata": {},
   "outputs": [],
   "source": [
    "yorum1=[]\n",
    "yorum1.append(yorum)"
   ]
  },
  {
   "cell_type": "code",
   "execution_count": 999,
   "id": "5df5795e",
   "metadata": {},
   "outputs": [],
   "source": [
    "yorum2=cv.transform(yorum1)"
   ]
  },
  {
   "cell_type": "code",
   "execution_count": 1001,
   "id": "e2a53178",
   "metadata": {},
   "outputs": [],
   "source": [
    "yorum3 =yorum2.toarray()"
   ]
  },
  {
   "cell_type": "code",
   "execution_count": 1002,
   "id": "c5dfb36d",
   "metadata": {},
   "outputs": [
    {
     "data": {
      "text/plain": [
       "array([1.])"
      ]
     },
     "execution_count": 1002,
     "metadata": {},
     "output_type": "execute_result"
    }
   ],
   "source": [
    "voting_clf.predict(yorum3)"
   ]
  },
  {
   "cell_type": "code",
   "execution_count": null,
   "id": "cfabd317",
   "metadata": {},
   "outputs": [],
   "source": [
    "#Deneme"
   ]
  },
  {
   "cell_type": "code",
   "execution_count": 1003,
   "id": "22b3c11f",
   "metadata": {},
   "outputs": [],
   "source": [
    "yeni_yorum=df[\"Review\"][1]"
   ]
  },
  {
   "cell_type": "code",
   "execution_count": 1004,
   "id": "bdce0ce6",
   "metadata": {},
   "outputs": [
    {
     "data": {
      "text/plain": [
       "'crust good'"
      ]
     },
     "execution_count": 1004,
     "metadata": {},
     "output_type": "execute_result"
    }
   ],
   "source": [
    "yeni_yorum"
   ]
  },
  {
   "cell_type": "code",
   "execution_count": 1005,
   "id": "e0def7e0",
   "metadata": {},
   "outputs": [],
   "source": [
    "yeni_yorum1=[]\n",
    "yeni_yorum1.append(yeni_yorum)"
   ]
  },
  {
   "cell_type": "code",
   "execution_count": 1007,
   "id": "e9201771",
   "metadata": {},
   "outputs": [],
   "source": [
    "yeni_yorum2=cv.transform(yeni_yorum1)"
   ]
  },
  {
   "cell_type": "code",
   "execution_count": 1009,
   "id": "13f9f36c",
   "metadata": {},
   "outputs": [],
   "source": [
    "yeni_yorum3 = yeni_yorum2.toarray()"
   ]
  },
  {
   "cell_type": "code",
   "execution_count": 1011,
   "id": "81d9b764",
   "metadata": {},
   "outputs": [
    {
     "data": {
      "text/plain": [
       "array([0.])"
      ]
     },
     "execution_count": 1011,
     "metadata": {},
     "output_type": "execute_result"
    }
   ],
   "source": [
    "voting_clf.predict(yeni_yorum3)"
   ]
  },
  {
   "cell_type": "code",
   "execution_count": null,
   "id": "1717c9ba",
   "metadata": {},
   "outputs": [],
   "source": [
    "#Deneme"
   ]
  },
  {
   "cell_type": "code",
   "execution_count": 1018,
   "id": "ad2c9565",
   "metadata": {},
   "outputs": [],
   "source": [
    "a=\"delicious\""
   ]
  },
  {
   "cell_type": "code",
   "execution_count": 1019,
   "id": "4e71c212",
   "metadata": {},
   "outputs": [],
   "source": [
    "a1=[]\n",
    "a1.append(a)"
   ]
  },
  {
   "cell_type": "code",
   "execution_count": 1020,
   "id": "b0b4f113",
   "metadata": {},
   "outputs": [],
   "source": [
    "a2=cv.transform(a1)"
   ]
  },
  {
   "cell_type": "code",
   "execution_count": 1022,
   "id": "555d4ed5",
   "metadata": {},
   "outputs": [],
   "source": [
    "a3 = a2.toarray()"
   ]
  },
  {
   "cell_type": "code",
   "execution_count": 1023,
   "id": "0e8db4ab",
   "metadata": {},
   "outputs": [
    {
     "data": {
      "text/plain": [
       "array([1.])"
      ]
     },
     "execution_count": 1023,
     "metadata": {},
     "output_type": "execute_result"
    }
   ],
   "source": [
    "voting_clf.predict(a3)"
   ]
  },
  {
   "cell_type": "code",
   "execution_count": null,
   "id": "e7135ff2",
   "metadata": {},
   "outputs": [],
   "source": []
  }
 ],
 "metadata": {
  "kernelspec": {
   "display_name": "Python 3",
   "language": "python",
   "name": "python3"
  },
  "language_info": {
   "codemirror_mode": {
    "name": "ipython",
    "version": 3
   },
   "file_extension": ".py",
   "mimetype": "text/x-python",
   "name": "python",
   "nbconvert_exporter": "python",
   "pygments_lexer": "ipython3",
   "version": "3.8.8"
  }
 },
 "nbformat": 4,
 "nbformat_minor": 5
}
